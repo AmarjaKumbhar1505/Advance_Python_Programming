{
 "cells": [
  {
   "cell_type": "markdown",
   "id": "3cd17dd4",
   "metadata": {},
   "source": [
    "<a id='import'></a>\n",
    "<div style=\"color:white;\n",
    "            display:fill;\n",
    "            border-radius:10px;\n",
    "            background-color:#0e2f52;\n",
    "            font-size:80%;\n",
    "            font-family:Verdana;\n",
    "            letter-spacing:1px\">\n",
    "    <h1 style='padding: 20px;\n",
    "              color:white;\n",
    "              text-align:center;'>\n",
    "        BIODIVERSITY  OBSERVATIONS ANALYSIS\n",
    "    </h1>\n",
    "    </div>\n",
    "\n",
    "<h2 align=\"center\"><font color=#2067d4> Exploratory Data Analysis (EDA) Project</font></h2> \n",
    "\n",
    "---\n",
    "    \n",
    "<p align=\"center\"><font color=#2067d4>\n",
    "  Amarja Kumbhar and Sameehan Shastrabuddhe\n",
    "   </font>\n",
    "</p>\n",
    " <a href=\"https://github.com/AmarjaKumbhar1505/Advance_Python_Programming\">GitHub</a> \n"
   ]
  },
  {
   "cell_type": "markdown",
   "id": "a2363b55",
   "metadata": {},
   "source": [
    "<div style=\"border-radius:10px;border:#254E58 solid;padding: 15px;background-color:white;font-size:110%;text-align:left\">\n",
    "\n",
    "<h3 align=\"left\"><font color=dodgerblue> 🎯 Project Description:</font></h3>   \n",
    "\n",
    "- In this project, we will perform basic Exploratory Data Analysis (EDA) on the Biodiversity Observations\n",
    "- we will visualize Data using Seaborn and Matplotlib. \n",
    "- Analysis of biodiversity data from 100,000 observations across multiple species and regions..\n",
    "    \n",
    "<h3 align=\"left\"><font color=dodgerblue> 📝 About the Datasets </font></h3>     \n",
    "    \n",
    "**Dataset Descriptions:** 'dataset_5.csv'. \n",
    "\n",
    "- **Content:** The dataset contains 50 columns, each representing different aspects of species observations.\n",
    "- **Rows:** 10000    \n",
    "- **Columns:** 5 \n",
    "    - **Date:** Date of the recorded stock price and returns.\n",
    "    - **AAPL**: Daily return for Apple Inc.\n",
    "    - **JPM**: Daily return for JPMorgan Chase & Co.\n",
    "    - **PG**: Daily return for Procter & Gamble Co.\n",
    "    - **UAL**: Daily return for United Airlines Holdings, Inc.\n",
    " \n",
    "- **Purpose:** These datasets Provide a comprehensive view of stock price movements over time for analysis of trends, patterns, and correlations.\n",
    " \n",
    "---\n"
   ]
  },
  {
   "cell_type": "markdown",
   "id": "d33d680b",
   "metadata": {},
   "source": [
    "## <font color=#2865c8> <b> UNDERSTANDING THE DATA </b><font color='orange'>"
   ]
  },
  {
   "cell_type": "code",
   "execution_count": null,
   "id": "0bac79ad",
   "metadata": {},
   "outputs": [],
   "source": []
  }
 ],
 "metadata": {
  "hide_input": false,
  "kernelspec": {
   "display_name": "Python 3 (ipykernel)",
   "language": "python",
   "name": "python3"
  },
  "language_info": {
   "codemirror_mode": {
    "name": "ipython",
    "version": 3
   },
   "file_extension": ".py",
   "mimetype": "text/x-python",
   "name": "python",
   "nbconvert_exporter": "python",
   "pygments_lexer": "ipython3",
   "version": "3.11.5"
  }
 },
 "nbformat": 4,
 "nbformat_minor": 5
}
